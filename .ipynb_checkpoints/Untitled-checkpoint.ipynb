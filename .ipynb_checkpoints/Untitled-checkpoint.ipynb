{
 "cells": [
  {
   "cell_type": "code",
   "execution_count": 1,
   "metadata": {},
   "outputs": [],
   "source": [
    "import random\n",
    "import string\n"
   ]
  },
  {
   "cell_type": "code",
   "execution_count": null,
   "metadata": {},
   "outputs": [],
   "source": [
    "\n",
    "print (\"Python\")\n",
    "print (\"Assignment 2\")\n",
    "\n",
    "print ('Task 3\\n')\n",
    "print (\"Name Place Animal Things Game\\n\")\n",
    "\n",
    "print ('Welcome To The Game\\n')\n",
    "\n",
    "print(\"\\nPlease Face Device In Opposite Direction When Playing\\n\")\n",
    "\n"
   ]
  },
  {
   "cell_type": "code",
   "execution_count": 2,
   "metadata": {},
   "outputs": [
    {
     "name": "stdout",
     "output_type": "stream",
     "text": [
      "Enter number of players: 2\n",
      "Player 1 Name:\n",
      "Mishan\n",
      "Player 2 Name:\n",
      "Yobha\n",
      "The players list is: ['Mishan', 'Yobha']\n"
     ]
    }
   ],
   "source": [
    "\n",
    "# creating an empty list \n",
    "lst = [] \n",
    "  \n",
    "# number of elemetns as input \n",
    "n = int(input(\"Enter number of players: \")) \n",
    "  \n",
    "# iterating till the range \n",
    "for i in range(1, n+1): \n",
    "    print(\"Player\", i , \"Name:\") \n",
    "    ele = input() \n",
    "    lst.append(ele) # adding the element \n",
    "      \n",
    "print(\"The players list is:\", lst) \n"
   ]
  },
  {
   "cell_type": "code",
   "execution_count": 3,
   "metadata": {},
   "outputs": [
    {
     "name": "stdout",
     "output_type": "stream",
     "text": [
      "Play game with letter ->  y\n",
      "\n",
      "\n",
      "Player -> Mishan\n",
      "Enter name:\n",
      "Yahdasd\n",
      "Enter place:\n",
      "uasdasd\n",
      "Enter animal:\n",
      "uasdasd\n",
      "Enter thing:\n",
      "jasdasd\n",
      "Player Mishan Entered Yahdasd uasdasd uasdasd jasdasd\n",
      "\n",
      "\n",
      "Player -> Yobha\n",
      "Enter name:\n",
      "kasdnkasnd\n",
      "Enter place:\n",
      "adsasd\n",
      "Enter animal:\n",
      "asdasd\n",
      "Enter thing:\n",
      "asda\n",
      "Player Yobha Entered kasdnkasnd adsasd asdasd asda\n"
     ]
    }
   ],
   "source": [
    "\n",
    "def randomString(stringLength=1):\n",
    "    letters = string.ascii_lowercase\n",
    "    return ''.join(random.choice(letters) for i in range(stringLength))\n",
    "\n",
    "print(\"Play game with letter -> \", randomString())\n",
    "\n",
    "player = lst\n",
    "for i in player:\n",
    " print(\"\\n\\nPlayer ->\", i)\n",
    " name = input(\"Enter name:\\n\")\n",
    " place = input(\"Enter place:\\n\")\n",
    " animal = input(\"Enter animal:\\n\")\n",
    " thing = input(\"Enter thing:\\n\")\n",
    " print(\"Player\", i, \"Entered\", name,place,animal,thing)"
   ]
  },
  {
   "cell_type": "code",
   "execution_count": null,
   "metadata": {},
   "outputs": [],
   "source": [
    "print(\"Now Check Your Input And Decide Who Is Winner.\")"
   ]
  },
  {
   "cell_type": "code",
   "execution_count": null,
   "metadata": {},
   "outputs": [],
   "source": [
    "print(\"Thank You For Playing The Game\")"
   ]
  }
 ],
 "metadata": {
  "kernelspec": {
   "display_name": "Python 3",
   "language": "python",
   "name": "python3"
  },
  "language_info": {
   "codemirror_mode": {
    "name": "ipython",
    "version": 3
   },
   "file_extension": ".py",
   "mimetype": "text/x-python",
   "name": "python",
   "nbconvert_exporter": "python",
   "pygments_lexer": "ipython3",
   "version": "3.7.7"
  }
 },
 "nbformat": 4,
 "nbformat_minor": 4
}
